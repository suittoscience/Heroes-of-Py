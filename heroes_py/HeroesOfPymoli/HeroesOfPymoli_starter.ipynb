{
 "cells": [
  {
   "cell_type": "markdown",
   "metadata": {},
   "source": [
    "### Heroes Of Pymoli Data Analysis\n",
    "* Of the 1163 active players, the vast majority are male (84%). There also exists, a smaller, but notable proportion of female players (14%).\n",
    "\n",
    "* Our peak age demographic falls between 20-24 (44.8%) with secondary groups falling between 15-19 (18.60%) and 25-29 (13.4%).  \n",
    "-----"
   ]
  },
  {
   "cell_type": "markdown",
   "metadata": {},
   "source": [
    "### Note\n",
    "* Instructions have been included for each segment. You do not have to follow them exactly, but they are included to help you think through the steps."
   ]
  },
  {
   "cell_type": "code",
   "execution_count": 20,
   "metadata": {},
   "outputs": [],
   "source": [
    "# Dependencies and Setup\n",
    "import pandas as pd\n",
    "import numpy as np\n",
    "\n",
    "# File to Load (Remember to Change These)\n",
    "file_to_load = \"Resources/purchase_data.csv\"\n",
    "\n",
    "# Read Purchasing File and store into Pandas data frame\n",
    "purchase_data = pd.read_csv(file_to_load)"
   ]
  },
  {
   "cell_type": "markdown",
   "metadata": {},
   "source": [
    "## Player Count"
   ]
  },
  {
   "cell_type": "markdown",
   "metadata": {},
   "source": [
    "* Display the total number of players\n"
   ]
  },
  {
   "cell_type": "code",
   "execution_count": 21,
   "metadata": {},
   "outputs": [
    {
     "data": {
      "text/html": [
       "<div>\n",
       "<style scoped>\n",
       "    .dataframe tbody tr th:only-of-type {\n",
       "        vertical-align: middle;\n",
       "    }\n",
       "\n",
       "    .dataframe tbody tr th {\n",
       "        vertical-align: top;\n",
       "    }\n",
       "\n",
       "    .dataframe thead th {\n",
       "        text-align: right;\n",
       "    }\n",
       "</style>\n",
       "<table border=\"1\" class=\"dataframe\">\n",
       "  <thead>\n",
       "    <tr style=\"text-align: right;\">\n",
       "      <th></th>\n",
       "      <th>Total Players</th>\n",
       "    </tr>\n",
       "  </thead>\n",
       "  <tbody>\n",
       "    <tr>\n",
       "      <th>0</th>\n",
       "      <td>576</td>\n",
       "    </tr>\n",
       "  </tbody>\n",
       "</table>\n",
       "</div>"
      ],
      "text/plain": [
       "   Total Players\n",
       "0            576"
      ]
     },
     "execution_count": 21,
     "metadata": {},
     "output_type": "execute_result"
    }
   ],
   "source": [
    "#create a data frame with total number of players\n",
    "total_players = len(purchase_data[\"SN\"].value_counts())\n",
    "player_count = pd.DataFrame({\"Total Players\":[total_players]})\n",
    "player_count"
   ]
  },
  {
   "cell_type": "markdown",
   "metadata": {},
   "source": [
    "## Purchasing Analysis (Total)"
   ]
  },
  {
   "cell_type": "markdown",
   "metadata": {},
   "source": [
    "* Run basic calculations to obtain number of unique items, average price, etc.\n",
    "\n",
    "\n",
    "* Create a summary data frame to hold the results\n",
    "\n",
    "\n",
    "* Optional: give the displayed data cleaner formatting\n",
    "\n",
    "\n",
    "* Display the summary data frame\n"
   ]
  },
  {
   "cell_type": "code",
   "execution_count": 22,
   "metadata": {
    "scrolled": true
   },
   "outputs": [
    {
     "data": {
      "text/html": [
       "<style  type=\"text/css\" >\n",
       "</style>  \n",
       "<table id=\"T_8d25ca78_cd71_11e8_ab98_e82a44feff58\" > \n",
       "<thead>    <tr> \n",
       "        <th class=\"blank level0\" ></th> \n",
       "        <th class=\"col_heading level0 col0\" >Number of Unique Items</th> \n",
       "        <th class=\"col_heading level0 col1\" >Average Price</th> \n",
       "        <th class=\"col_heading level0 col2\" >Number of Purchases</th> \n",
       "        <th class=\"col_heading level0 col3\" >Total Revenue</th> \n",
       "    </tr></thead> \n",
       "<tbody>    <tr> \n",
       "        <th id=\"T_8d25ca78_cd71_11e8_ab98_e82a44feff58level0_row0\" class=\"row_heading level0 row0\" >0</th> \n",
       "        <td id=\"T_8d25ca78_cd71_11e8_ab98_e82a44feff58row0_col0\" class=\"data row0 col0\" >183</td> \n",
       "        <td id=\"T_8d25ca78_cd71_11e8_ab98_e82a44feff58row0_col1\" class=\"data row0 col1\" >$3.05</td> \n",
       "        <td id=\"T_8d25ca78_cd71_11e8_ab98_e82a44feff58row0_col2\" class=\"data row0 col2\" >780</td> \n",
       "        <td id=\"T_8d25ca78_cd71_11e8_ab98_e82a44feff58row0_col3\" class=\"data row0 col3\" >$2,379.77</td> \n",
       "    </tr></tbody> \n",
       "</table> "
      ],
      "text/plain": [
       "<pandas.io.formats.style.Styler at 0x13928f6ef98>"
      ]
     },
     "execution_count": 22,
     "metadata": {},
     "output_type": "execute_result"
    }
   ],
   "source": [
    "#calculate unique items, average price, purchase count, and total price\n",
    "number_of_unique_items = len((purchase_data[\"Item ID\"]).unique())\n",
    "average_price = (purchase_data[\"Price\"]).mean()\n",
    "number_of_purchases = (purchase_data[\"Purchase ID\"]).count()\n",
    "total_price = (purchase_data[\"Price\"]).sum()\n",
    "\n",
    "#create summary data frame \n",
    "summary_df = pd.DataFrame({\"Number of Unique Items\":[number_of_unique_items],\n",
    "                           \"Average Price\":[average_price], \n",
    "                           \"Number of Purchases\": [number_of_purchases], \n",
    "                           \"Total Revenue\": [total_price]})\n",
    "\n",
    "#display summary data frame\n",
    "summary_df.style.format({'Average Price':\"${:,.2f}\",\n",
    "                         'Total Revenue': '${:,.2f}'})"
   ]
  },
  {
   "cell_type": "markdown",
   "metadata": {},
   "source": [
    "## Gender Demographics"
   ]
  },
  {
   "cell_type": "markdown",
   "metadata": {},
   "source": [
    "* Percentage and Count of Male Players\n",
    "\n",
    "\n",
    "* Percentage and Count of Female Players\n",
    "\n",
    "\n",
    "* Percentage and Count of Other / Non-Disclosed\n",
    "\n",
    "\n"
   ]
  },
  {
   "cell_type": "code",
   "execution_count": 23,
   "metadata": {},
   "outputs": [
    {
     "data": {
      "text/html": [
       "<style  type=\"text/css\" >\n",
       "</style>  \n",
       "<table id=\"T_8d29931c_cd71_11e8_a2ec_e82a44feff58\" > \n",
       "<thead>    <tr> \n",
       "        <th class=\"blank level0\" ></th> \n",
       "        <th class=\"col_heading level0 col0\" >Total Count</th> \n",
       "        <th class=\"col_heading level0 col1\" >Percentage of Players</th> \n",
       "    </tr>    <tr> \n",
       "        <th class=\"index_name level0\" >Gender</th> \n",
       "        <th class=\"blank\" ></th> \n",
       "        <th class=\"blank\" ></th> \n",
       "    </tr></thead> \n",
       "<tbody>    <tr> \n",
       "        <th id=\"T_8d29931c_cd71_11e8_a2ec_e82a44feff58level0_row0\" class=\"row_heading level0 row0\" >Male</th> \n",
       "        <td id=\"T_8d29931c_cd71_11e8_a2ec_e82a44feff58row0_col0\" class=\"data row0 col0\" >484</td> \n",
       "        <td id=\"T_8d29931c_cd71_11e8_a2ec_e82a44feff58row0_col1\" class=\"data row0 col1\" >84.03</td> \n",
       "    </tr>    <tr> \n",
       "        <th id=\"T_8d29931c_cd71_11e8_a2ec_e82a44feff58level0_row1\" class=\"row_heading level0 row1\" >Female</th> \n",
       "        <td id=\"T_8d29931c_cd71_11e8_a2ec_e82a44feff58row1_col0\" class=\"data row1 col0\" >81</td> \n",
       "        <td id=\"T_8d29931c_cd71_11e8_a2ec_e82a44feff58row1_col1\" class=\"data row1 col1\" >14.06</td> \n",
       "    </tr>    <tr> \n",
       "        <th id=\"T_8d29931c_cd71_11e8_a2ec_e82a44feff58level0_row2\" class=\"row_heading level0 row2\" >Other / Non-Disclosed</th> \n",
       "        <td id=\"T_8d29931c_cd71_11e8_a2ec_e82a44feff58row2_col0\" class=\"data row2 col0\" >11</td> \n",
       "        <td id=\"T_8d29931c_cd71_11e8_a2ec_e82a44feff58row2_col1\" class=\"data row2 col1\" >1.91</td> \n",
       "    </tr></tbody> \n",
       "</table> "
      ],
      "text/plain": [
       "<pandas.io.formats.style.Styler at 0x13928f6eac8>"
      ]
     },
     "execution_count": 23,
     "metadata": {},
     "output_type": "execute_result"
    }
   ],
   "source": [
    "#group player data by gender \n",
    "gender_stats = purchase_data.groupby(\"Gender\")\n",
    "\n",
    "#get total screen names by gender\n",
    "total_count_gender = gender_stats.nunique()[\"SN\"]\n",
    "\n",
    "#find percentage of players  \n",
    "percentage_of_players = total_count_gender / total_players * 100\n",
    "\n",
    "#make data frame for gender demographics \n",
    "gender_demographics = pd.DataFrame({\"Total Count\": total_count_gender, \"Percentage of Players\": percentage_of_players})\n",
    "\n",
    "#format into decending order with two decimal places \n",
    "gender_demographics.sort_values([\"Total Count\"], ascending = False).style.format({\"Percentage of Players\":\"{:.2f}\"})"
   ]
  },
  {
   "cell_type": "markdown",
   "metadata": {},
   "source": [
    "\n",
    "## Purchasing Analysis (Gender)"
   ]
  },
  {
   "cell_type": "markdown",
   "metadata": {},
   "source": [
    "* Run basic calculations to obtain purchase count, avg. purchase price, avg. purchase total per person etc. by gender\n",
    "\n",
    "\n",
    "\n",
    "\n",
    "* Create a summary data frame to hold the results\n",
    "\n",
    "\n",
    "* Optional: give the displayed data cleaner formatting\n",
    "\n",
    "\n",
    "* Display the summary data frame"
   ]
  },
  {
   "cell_type": "code",
   "execution_count": 30,
   "metadata": {},
   "outputs": [
    {
     "data": {
      "text/html": [
       "<style  type=\"text/css\" >\n",
       "</style>  \n",
       "<table id=\"T_52192fde_cd75_11e8_a525_e82a44feff58\" > \n",
       "<thead>    <tr> \n",
       "        <th class=\"blank level0\" ></th> \n",
       "        <th class=\"col_heading level0 col0\" >Purchase Count</th> \n",
       "        <th class=\"col_heading level0 col1\" >Average Purchase Price</th> \n",
       "        <th class=\"col_heading level0 col2\" >Total Purchase Value</th> \n",
       "        <th class=\"col_heading level0 col3\" >Avg Purchase Total per Person</th> \n",
       "    </tr>    <tr> \n",
       "        <th class=\"index_name level0\" >Gender</th> \n",
       "        <th class=\"blank\" ></th> \n",
       "        <th class=\"blank\" ></th> \n",
       "        <th class=\"blank\" ></th> \n",
       "        <th class=\"blank\" ></th> \n",
       "    </tr></thead> \n",
       "<tbody>    <tr> \n",
       "        <th id=\"T_52192fde_cd75_11e8_a525_e82a44feff58level0_row0\" class=\"row_heading level0 row0\" >Female</th> \n",
       "        <td id=\"T_52192fde_cd75_11e8_a525_e82a44feff58row0_col0\" class=\"data row0 col0\" >113</td> \n",
       "        <td id=\"T_52192fde_cd75_11e8_a525_e82a44feff58row0_col1\" class=\"data row0 col1\" >$3.20</td> \n",
       "        <td id=\"T_52192fde_cd75_11e8_a525_e82a44feff58row0_col2\" class=\"data row0 col2\" >$361.94</td> \n",
       "        <td id=\"T_52192fde_cd75_11e8_a525_e82a44feff58row0_col3\" class=\"data row0 col3\" >$4.47</td> \n",
       "    </tr>    <tr> \n",
       "        <th id=\"T_52192fde_cd75_11e8_a525_e82a44feff58level0_row1\" class=\"row_heading level0 row1\" >Male</th> \n",
       "        <td id=\"T_52192fde_cd75_11e8_a525_e82a44feff58row1_col0\" class=\"data row1 col0\" >652</td> \n",
       "        <td id=\"T_52192fde_cd75_11e8_a525_e82a44feff58row1_col1\" class=\"data row1 col1\" >$3.02</td> \n",
       "        <td id=\"T_52192fde_cd75_11e8_a525_e82a44feff58row1_col2\" class=\"data row1 col2\" >$1,967.64</td> \n",
       "        <td id=\"T_52192fde_cd75_11e8_a525_e82a44feff58row1_col3\" class=\"data row1 col3\" >$4.07</td> \n",
       "    </tr>    <tr> \n",
       "        <th id=\"T_52192fde_cd75_11e8_a525_e82a44feff58level0_row2\" class=\"row_heading level0 row2\" >Other / Non-Disclosed</th> \n",
       "        <td id=\"T_52192fde_cd75_11e8_a525_e82a44feff58row2_col0\" class=\"data row2 col0\" >15</td> \n",
       "        <td id=\"T_52192fde_cd75_11e8_a525_e82a44feff58row2_col1\" class=\"data row2 col1\" >$3.35</td> \n",
       "        <td id=\"T_52192fde_cd75_11e8_a525_e82a44feff58row2_col2\" class=\"data row2 col2\" >$50.19</td> \n",
       "        <td id=\"T_52192fde_cd75_11e8_a525_e82a44feff58row2_col3\" class=\"data row2 col3\" >$4.56</td> \n",
       "    </tr></tbody> \n",
       "</table> "
      ],
      "text/plain": [
       "<pandas.io.formats.style.Styler at 0x13928f39748>"
      ]
     },
     "execution_count": 30,
     "metadata": {},
     "output_type": "execute_result"
    }
   ],
   "source": [
    "#Run basic calculations to obtain purchase count, avg purchase price, avg purchase total per person by gender\n",
    "#purchase count\n",
    "purchase_count = gender_stats[\"Purchase ID\"].count()\n",
    "#average pruchase price\n",
    "avg_purchase_price = gender_stats[\"Price\"].mean()\n",
    "#total purchase value\n",
    "avg_purchase_total = gender_stats[\"Price\"].sum()\n",
    "#average purchase total per person\n",
    "avg_purchase_per_person = avg_purchase_total/total_count_gender\n",
    "\n",
    "#Create a summary data frame to hold the results\n",
    "gender_demographics = pd.DataFrame({\"Purchase Count\": purchase_count, \n",
    "                                    \"Average Purchase Price\": avg_purchase_price,\n",
    "                                    \"Total Purchase Value\":avg_purchase_total,\n",
    "                                    \"Avg Purchase Total per Person\": avg_purchase_per_person})\n",
    "#Display the summary data frame\n",
    "gender_demographics.style.format({\"Average Purchase Price\":\"${:,.2f}\",\n",
    "                                  \"Total Purchase Value\":\"${:,.2f}\",\n",
    "                                  \"Avg Purchase Total per Person\":\"${:,.2f}\"})"
   ]
  },
  {
   "cell_type": "markdown",
   "metadata": {},
   "source": [
    "## Age Demographics"
   ]
  },
  {
   "cell_type": "markdown",
   "metadata": {},
   "source": [
    "* Establish bins for ages\n",
    "\n",
    "\n",
    "* Categorize the existing players using the age bins. Hint: use pd.cut()\n",
    "\n",
    "\n",
    "* Calculate the numbers and percentages by age group\n",
    "\n",
    "\n",
    "* Create a summary data frame to hold the results\n",
    "\n",
    "\n",
    "* Optional: round the percentage column to two decimal points\n",
    "\n",
    "\n",
    "* Display Age Demographics Table\n"
   ]
  },
  {
   "cell_type": "code",
   "execution_count": 31,
   "metadata": {},
   "outputs": [
    {
     "data": {
      "text/html": [
       "<style  type=\"text/css\" >\n",
       "</style>  \n",
       "<table id=\"T_6d0e9eba_cd75_11e8_a428_e82a44feff58\" > \n",
       "<thead>    <tr> \n",
       "        <th class=\"blank level0\" ></th> \n",
       "        <th class=\"col_heading level0 col0\" >Total Count</th> \n",
       "        <th class=\"col_heading level0 col1\" >Percentage of Players</th> \n",
       "    </tr>    <tr> \n",
       "        <th class=\"index_name level0\" >Age Group</th> \n",
       "        <th class=\"blank\" ></th> \n",
       "        <th class=\"blank\" ></th> \n",
       "    </tr></thead> \n",
       "<tbody>    <tr> \n",
       "        <th id=\"T_6d0e9eba_cd75_11e8_a428_e82a44feff58level0_row0\" class=\"row_heading level0 row0\" ><10</th> \n",
       "        <td id=\"T_6d0e9eba_cd75_11e8_a428_e82a44feff58row0_col0\" class=\"data row0 col0\" >17</td> \n",
       "        <td id=\"T_6d0e9eba_cd75_11e8_a428_e82a44feff58row0_col1\" class=\"data row0 col1\" >2.95</td> \n",
       "    </tr>    <tr> \n",
       "        <th id=\"T_6d0e9eba_cd75_11e8_a428_e82a44feff58level0_row1\" class=\"row_heading level0 row1\" >10-14</th> \n",
       "        <td id=\"T_6d0e9eba_cd75_11e8_a428_e82a44feff58row1_col0\" class=\"data row1 col0\" >22</td> \n",
       "        <td id=\"T_6d0e9eba_cd75_11e8_a428_e82a44feff58row1_col1\" class=\"data row1 col1\" >3.82</td> \n",
       "    </tr>    <tr> \n",
       "        <th id=\"T_6d0e9eba_cd75_11e8_a428_e82a44feff58level0_row2\" class=\"row_heading level0 row2\" >15-19</th> \n",
       "        <td id=\"T_6d0e9eba_cd75_11e8_a428_e82a44feff58row2_col0\" class=\"data row2 col0\" >107</td> \n",
       "        <td id=\"T_6d0e9eba_cd75_11e8_a428_e82a44feff58row2_col1\" class=\"data row2 col1\" >18.58</td> \n",
       "    </tr>    <tr> \n",
       "        <th id=\"T_6d0e9eba_cd75_11e8_a428_e82a44feff58level0_row3\" class=\"row_heading level0 row3\" >20-24</th> \n",
       "        <td id=\"T_6d0e9eba_cd75_11e8_a428_e82a44feff58row3_col0\" class=\"data row3 col0\" >258</td> \n",
       "        <td id=\"T_6d0e9eba_cd75_11e8_a428_e82a44feff58row3_col1\" class=\"data row3 col1\" >44.79</td> \n",
       "    </tr>    <tr> \n",
       "        <th id=\"T_6d0e9eba_cd75_11e8_a428_e82a44feff58level0_row4\" class=\"row_heading level0 row4\" >25-29</th> \n",
       "        <td id=\"T_6d0e9eba_cd75_11e8_a428_e82a44feff58row4_col0\" class=\"data row4 col0\" >77</td> \n",
       "        <td id=\"T_6d0e9eba_cd75_11e8_a428_e82a44feff58row4_col1\" class=\"data row4 col1\" >13.37</td> \n",
       "    </tr>    <tr> \n",
       "        <th id=\"T_6d0e9eba_cd75_11e8_a428_e82a44feff58level0_row5\" class=\"row_heading level0 row5\" >30-34</th> \n",
       "        <td id=\"T_6d0e9eba_cd75_11e8_a428_e82a44feff58row5_col0\" class=\"data row5 col0\" >52</td> \n",
       "        <td id=\"T_6d0e9eba_cd75_11e8_a428_e82a44feff58row5_col1\" class=\"data row5 col1\" >9.03</td> \n",
       "    </tr>    <tr> \n",
       "        <th id=\"T_6d0e9eba_cd75_11e8_a428_e82a44feff58level0_row6\" class=\"row_heading level0 row6\" >35-39</th> \n",
       "        <td id=\"T_6d0e9eba_cd75_11e8_a428_e82a44feff58row6_col0\" class=\"data row6 col0\" >31</td> \n",
       "        <td id=\"T_6d0e9eba_cd75_11e8_a428_e82a44feff58row6_col1\" class=\"data row6 col1\" >5.38</td> \n",
       "    </tr>    <tr> \n",
       "        <th id=\"T_6d0e9eba_cd75_11e8_a428_e82a44feff58level0_row7\" class=\"row_heading level0 row7\" >40+</th> \n",
       "        <td id=\"T_6d0e9eba_cd75_11e8_a428_e82a44feff58row7_col0\" class=\"data row7 col0\" >12</td> \n",
       "        <td id=\"T_6d0e9eba_cd75_11e8_a428_e82a44feff58row7_col1\" class=\"data row7 col1\" >2.08</td> \n",
       "    </tr></tbody> \n",
       "</table> "
      ],
      "text/plain": [
       "<pandas.io.formats.style.Styler at 0x13928f6e1d0>"
      ]
     },
     "execution_count": 31,
     "metadata": {},
     "output_type": "execute_result"
    }
   ],
   "source": [
    "# Establish bins for ages\n",
    "age_bins = [0, 9.90, 14.90, 19.90, 24.90, 29.90, 34.90, 39.90, 99999]\n",
    "group_names = [\"<10\", \"10-14\", \"15-19\", \"20-24\", \"25-29\", \"30-34\", \"35-39\", \"40+\"]\n",
    "\n",
    "#Categorize the existing players using the age bins.\n",
    "purchase_data[\"Age Group\"] = pd.cut(purchase_data[\"Age\"],age_bins, labels=group_names)\n",
    "purchase_data\n",
    "\n",
    "#Calculate the numbers and percentages by age group\n",
    "age_group = purchase_data.groupby(\"Age Group\")\n",
    "total_count_age = age_group[\"SN\"].nunique()\n",
    "percentage_by_age = (total_count_age/total_players) * 100\n",
    "    \n",
    "#make summary data frame\n",
    "age_demographics = pd.DataFrame({\"Total Count\": total_count_age, \"Percentage of Players\": percentage_by_age})\n",
    "\n",
    "#diplay table with format percentage with two decimal places \n",
    "age_demographics.style.format({\"Percentage of Players\":\"{:,.2f}\"})"
   ]
  },
  {
   "cell_type": "markdown",
   "metadata": {},
   "source": [
    "## Purchasing Analysis (Age)"
   ]
  },
  {
   "cell_type": "markdown",
   "metadata": {},
   "source": [
    "* Bin the purchase_data data frame by age\n",
    "\n",
    "\n",
    "* Run basic calculations to obtain purchase count, avg. purchase price, avg. purchase total per person etc. in the table below\n",
    "\n",
    "\n",
    "* Create a summary data frame to hold the results\n",
    "\n",
    "\n",
    "* Optional: give the displayed data cleaner formatting\n",
    "\n",
    "\n",
    "* Display the summary data frame"
   ]
  },
  {
   "cell_type": "code",
   "execution_count": 32,
   "metadata": {},
   "outputs": [
    {
     "data": {
      "text/html": [
       "<style  type=\"text/css\" >\n",
       "</style>  \n",
       "<table id=\"T_746058cc_cd75_11e8_b751_e82a44feff58\" > \n",
       "<thead>    <tr> \n",
       "        <th class=\"blank level0\" ></th> \n",
       "        <th class=\"col_heading level0 col0\" >Purchase Count</th> \n",
       "        <th class=\"col_heading level0 col1\" >Average Purchase Price</th> \n",
       "        <th class=\"col_heading level0 col2\" >Total Purchase Value</th> \n",
       "        <th class=\"col_heading level0 col3\" >Average Purchase Total per Person</th> \n",
       "    </tr>    <tr> \n",
       "        <th class=\"index_name level0\" >Age Group</th> \n",
       "        <th class=\"blank\" ></th> \n",
       "        <th class=\"blank\" ></th> \n",
       "        <th class=\"blank\" ></th> \n",
       "        <th class=\"blank\" ></th> \n",
       "    </tr></thead> \n",
       "<tbody>    <tr> \n",
       "        <th id=\"T_746058cc_cd75_11e8_b751_e82a44feff58level0_row0\" class=\"row_heading level0 row0\" ><10</th> \n",
       "        <td id=\"T_746058cc_cd75_11e8_b751_e82a44feff58row0_col0\" class=\"data row0 col0\" >23</td> \n",
       "        <td id=\"T_746058cc_cd75_11e8_b751_e82a44feff58row0_col1\" class=\"data row0 col1\" >$3.35</td> \n",
       "        <td id=\"T_746058cc_cd75_11e8_b751_e82a44feff58row0_col2\" class=\"data row0 col2\" >$77.13</td> \n",
       "        <td id=\"T_746058cc_cd75_11e8_b751_e82a44feff58row0_col3\" class=\"data row0 col3\" >$4.54</td> \n",
       "    </tr>    <tr> \n",
       "        <th id=\"T_746058cc_cd75_11e8_b751_e82a44feff58level0_row1\" class=\"row_heading level0 row1\" >10-14</th> \n",
       "        <td id=\"T_746058cc_cd75_11e8_b751_e82a44feff58row1_col0\" class=\"data row1 col0\" >28</td> \n",
       "        <td id=\"T_746058cc_cd75_11e8_b751_e82a44feff58row1_col1\" class=\"data row1 col1\" >$2.96</td> \n",
       "        <td id=\"T_746058cc_cd75_11e8_b751_e82a44feff58row1_col2\" class=\"data row1 col2\" >$82.78</td> \n",
       "        <td id=\"T_746058cc_cd75_11e8_b751_e82a44feff58row1_col3\" class=\"data row1 col3\" >$3.76</td> \n",
       "    </tr>    <tr> \n",
       "        <th id=\"T_746058cc_cd75_11e8_b751_e82a44feff58level0_row2\" class=\"row_heading level0 row2\" >15-19</th> \n",
       "        <td id=\"T_746058cc_cd75_11e8_b751_e82a44feff58row2_col0\" class=\"data row2 col0\" >136</td> \n",
       "        <td id=\"T_746058cc_cd75_11e8_b751_e82a44feff58row2_col1\" class=\"data row2 col1\" >$3.04</td> \n",
       "        <td id=\"T_746058cc_cd75_11e8_b751_e82a44feff58row2_col2\" class=\"data row2 col2\" >$412.89</td> \n",
       "        <td id=\"T_746058cc_cd75_11e8_b751_e82a44feff58row2_col3\" class=\"data row2 col3\" >$3.86</td> \n",
       "    </tr>    <tr> \n",
       "        <th id=\"T_746058cc_cd75_11e8_b751_e82a44feff58level0_row3\" class=\"row_heading level0 row3\" >20-24</th> \n",
       "        <td id=\"T_746058cc_cd75_11e8_b751_e82a44feff58row3_col0\" class=\"data row3 col0\" >365</td> \n",
       "        <td id=\"T_746058cc_cd75_11e8_b751_e82a44feff58row3_col1\" class=\"data row3 col1\" >$3.05</td> \n",
       "        <td id=\"T_746058cc_cd75_11e8_b751_e82a44feff58row3_col2\" class=\"data row3 col2\" >$1,114.06</td> \n",
       "        <td id=\"T_746058cc_cd75_11e8_b751_e82a44feff58row3_col3\" class=\"data row3 col3\" >$4.32</td> \n",
       "    </tr>    <tr> \n",
       "        <th id=\"T_746058cc_cd75_11e8_b751_e82a44feff58level0_row4\" class=\"row_heading level0 row4\" >25-29</th> \n",
       "        <td id=\"T_746058cc_cd75_11e8_b751_e82a44feff58row4_col0\" class=\"data row4 col0\" >101</td> \n",
       "        <td id=\"T_746058cc_cd75_11e8_b751_e82a44feff58row4_col1\" class=\"data row4 col1\" >$2.90</td> \n",
       "        <td id=\"T_746058cc_cd75_11e8_b751_e82a44feff58row4_col2\" class=\"data row4 col2\" >$293.00</td> \n",
       "        <td id=\"T_746058cc_cd75_11e8_b751_e82a44feff58row4_col3\" class=\"data row4 col3\" >$3.81</td> \n",
       "    </tr>    <tr> \n",
       "        <th id=\"T_746058cc_cd75_11e8_b751_e82a44feff58level0_row5\" class=\"row_heading level0 row5\" >30-34</th> \n",
       "        <td id=\"T_746058cc_cd75_11e8_b751_e82a44feff58row5_col0\" class=\"data row5 col0\" >73</td> \n",
       "        <td id=\"T_746058cc_cd75_11e8_b751_e82a44feff58row5_col1\" class=\"data row5 col1\" >$2.93</td> \n",
       "        <td id=\"T_746058cc_cd75_11e8_b751_e82a44feff58row5_col2\" class=\"data row5 col2\" >$214.00</td> \n",
       "        <td id=\"T_746058cc_cd75_11e8_b751_e82a44feff58row5_col3\" class=\"data row5 col3\" >$4.12</td> \n",
       "    </tr>    <tr> \n",
       "        <th id=\"T_746058cc_cd75_11e8_b751_e82a44feff58level0_row6\" class=\"row_heading level0 row6\" >35-39</th> \n",
       "        <td id=\"T_746058cc_cd75_11e8_b751_e82a44feff58row6_col0\" class=\"data row6 col0\" >41</td> \n",
       "        <td id=\"T_746058cc_cd75_11e8_b751_e82a44feff58row6_col1\" class=\"data row6 col1\" >$3.60</td> \n",
       "        <td id=\"T_746058cc_cd75_11e8_b751_e82a44feff58row6_col2\" class=\"data row6 col2\" >$147.67</td> \n",
       "        <td id=\"T_746058cc_cd75_11e8_b751_e82a44feff58row6_col3\" class=\"data row6 col3\" >$4.76</td> \n",
       "    </tr>    <tr> \n",
       "        <th id=\"T_746058cc_cd75_11e8_b751_e82a44feff58level0_row7\" class=\"row_heading level0 row7\" >40+</th> \n",
       "        <td id=\"T_746058cc_cd75_11e8_b751_e82a44feff58row7_col0\" class=\"data row7 col0\" >13</td> \n",
       "        <td id=\"T_746058cc_cd75_11e8_b751_e82a44feff58row7_col1\" class=\"data row7 col1\" >$2.94</td> \n",
       "        <td id=\"T_746058cc_cd75_11e8_b751_e82a44feff58row7_col2\" class=\"data row7 col2\" >$38.24</td> \n",
       "        <td id=\"T_746058cc_cd75_11e8_b751_e82a44feff58row7_col3\" class=\"data row7 col3\" >$3.19</td> \n",
       "    </tr></tbody> \n",
       "</table> "
      ],
      "text/plain": [
       "<pandas.io.formats.style.Styler at 0x13928f39470>"
      ]
     },
     "execution_count": 32,
     "metadata": {},
     "output_type": "execute_result"
    }
   ],
   "source": [
    "#Run basic calculations to obtain purchase count, avg. purchase price, avg. purchase total per person etc.\n",
    "#purchase count\n",
    "purchase_count_age = age_group[\"Purchase ID\"].count()\n",
    "#average purchase price\n",
    "avg_purchase_price_age = age_group[\"Price\"].mean()\n",
    "#total purchase value\n",
    "total_purchase_value = age_group[\"Price\"].sum()\n",
    "#average total purchase per person\n",
    "avg_purchase_per_person_age = total_purchase_value/total_count_age\n",
    "\n",
    "#make summary data frame\n",
    "age_demographics = pd.DataFrame({\"Purchase Count\": purchase_count_age,\n",
    "                                 \"Average Purchase Price\": avg_purchase_price_age,\n",
    "                                 \"Total Purchase Value\":total_purchase_value,\n",
    "                                 \"Average Purchase Total per Person\": avg_purchase_per_person_age})\n",
    "#format table with currency \n",
    "age_demographics.style.format({\"Average Purchase Price\":\"${:,.2f}\",\n",
    "                               \"Total Purchase Value\":\"${:,.2f}\",\n",
    "                               \"Average Purchase Total per Person\":\"${:,.2f}\"})"
   ]
  },
  {
   "cell_type": "markdown",
   "metadata": {},
   "source": [
    "## Top Spenders"
   ]
  },
  {
   "cell_type": "markdown",
   "metadata": {},
   "source": [
    "* Run basic calculations to obtain the results in the table below\n",
    "\n",
    "\n",
    "* Create a summary data frame to hold the results\n",
    "\n",
    "\n",
    "* Sort the total purchase value column in descending order\n",
    "\n",
    "\n",
    "* Optional: give the displayed data cleaner formatting\n",
    "\n",
    "\n",
    "* Display a preview of the summary data frame\n",
    "\n"
   ]
  },
  {
   "cell_type": "code",
   "execution_count": null,
   "metadata": {},
   "outputs": [],
   "source": []
  },
  {
   "cell_type": "markdown",
   "metadata": {},
   "source": [
    "## Most Popular Items"
   ]
  },
  {
   "cell_type": "markdown",
   "metadata": {},
   "source": [
    "* Retrieve the Item ID, Item Name, and Item Price columns\n",
    "\n",
    "\n",
    "* Group by Item ID and Item Name. Perform calculations to obtain purchase count, item price, and total purchase value\n",
    "\n",
    "\n",
    "* Create a summary data frame to hold the results\n",
    "\n",
    "\n",
    "* Sort the purchase count column in descending order\n",
    "\n",
    "\n",
    "* Optional: give the displayed data cleaner formatting\n",
    "\n",
    "\n",
    "* Display a preview of the summary data frame\n",
    "\n"
   ]
  },
  {
   "cell_type": "code",
   "execution_count": null,
   "metadata": {},
   "outputs": [],
   "source": []
  },
  {
   "cell_type": "markdown",
   "metadata": {},
   "source": [
    "## Most Profitable Items"
   ]
  },
  {
   "cell_type": "markdown",
   "metadata": {},
   "source": [
    "* Sort the above table by total purchase value in descending order\n",
    "\n",
    "\n",
    "* Optional: give the displayed data cleaner formatting\n",
    "\n",
    "\n",
    "* Display a preview of the data frame\n",
    "\n"
   ]
  },
  {
   "cell_type": "code",
   "execution_count": null,
   "metadata": {
    "scrolled": true
   },
   "outputs": [],
   "source": []
  }
 ],
 "metadata": {
  "anaconda-cloud": {},
  "kernel_info": {
   "name": "python3"
  },
  "kernelspec": {
   "display_name": "Python 3",
   "language": "python",
   "name": "python3"
  },
  "language_info": {
   "codemirror_mode": {
    "name": "ipython",
    "version": 3
   },
   "file_extension": ".py",
   "mimetype": "text/x-python",
   "name": "python",
   "nbconvert_exporter": "python",
   "pygments_lexer": "ipython3",
   "version": "3.6.5"
  },
  "nteract": {
   "version": "0.2.0"
  }
 },
 "nbformat": 4,
 "nbformat_minor": 2
}
