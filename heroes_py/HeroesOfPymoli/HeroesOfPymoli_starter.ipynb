{
 "cells": [
  {
   "cell_type": "markdown",
   "metadata": {},
   "source": [
    "### Heroes Of Pymoli Observable Trends\n",
    "* Of the 1163 active players, the vast majority are male (84%). There also exists, a smaller, but notable proportion of female players (14%).\n",
    "\n",
    "* Our peak age demographic falls between 20-24 (44.8%) with secondary groups falling between 15-19 (18.60%) and 25-29 (13.4%).  \n",
    "\n",
    "\n",
    "\n",
    "\n",
    "\n",
    "*** The age group that spends the most money is the 20-24 with 1,114.06 dollars as total purchase value and an average purchase of 4.32. In contrast, the demographic group that has the highest average purchase is the 35-39 with 4.76 and a total purchase value of 147.67.\n",
    "\n",
    "\n",
    "*** The most popular purchase item is \"Oathbreaker, Last Hope of the Breaking Storm\" with a total purchase value of $5.76\n",
    "\n",
    "*** The top three most profitable items within the game are \"Oathbreaker, Last Hope of the Breaking Storm, Nirvana, and Fiery Glass Crusader\" with an item price of $4.23,$4.90, and $4.58. "
   ]
  },
  {
   "cell_type": "markdown",
   "metadata": {},
   "source": [
    "### Note\n",
    "* Instructions have been included for each segment. You do not have to follow them exactly, but they are included to help you think through the steps."
   ]
  },
  {
   "cell_type": "code",
   "execution_count": 11,
   "metadata": {},
   "outputs": [],
   "source": [
    "# Dependencies and Setup\n",
    "import pandas as pd\n",
    "import numpy as np\n",
    "\n",
    "# File to Load (Remember to Change These)\n",
    "file_to_load = \"Resources/purchase_data.csv\"\n",
    "\n",
    "# Read Purchasing File and store into Pandas data frame\n",
    "purchase_data = pd.read_csv(file_to_load)"
   ]
  },
  {
   "cell_type": "markdown",
   "metadata": {},
   "source": [
    "## Player Count"
   ]
  },
  {
   "cell_type": "markdown",
   "metadata": {},
   "source": [
    "* Display the total number of players\n"
   ]
  },
  {
   "cell_type": "code",
   "execution_count": 2,
   "metadata": {},
   "outputs": [
    {
     "data": {
      "text/html": [
       "<div>\n",
       "<style scoped>\n",
       "    .dataframe tbody tr th:only-of-type {\n",
       "        vertical-align: middle;\n",
       "    }\n",
       "\n",
       "    .dataframe tbody tr th {\n",
       "        vertical-align: top;\n",
       "    }\n",
       "\n",
       "    .dataframe thead th {\n",
       "        text-align: right;\n",
       "    }\n",
       "</style>\n",
       "<table border=\"1\" class=\"dataframe\">\n",
       "  <thead>\n",
       "    <tr style=\"text-align: right;\">\n",
       "      <th></th>\n",
       "      <th>Total Players</th>\n",
       "    </tr>\n",
       "  </thead>\n",
       "  <tbody>\n",
       "    <tr>\n",
       "      <th>0</th>\n",
       "      <td>576</td>\n",
       "    </tr>\n",
       "  </tbody>\n",
       "</table>\n",
       "</div>"
      ],
      "text/plain": [
       "   Total Players\n",
       "0            576"
      ]
     },
     "execution_count": 2,
     "metadata": {},
     "output_type": "execute_result"
    }
   ],
   "source": [
    "#create a data frame with total number of players\n",
    "total_players = len(purchase_data[\"SN\"].value_counts())\n",
    "player_count = pd.DataFrame({\"Total Players\":[total_players]})\n",
    "player_count"
   ]
  },
  {
   "cell_type": "markdown",
   "metadata": {},
   "source": [
    "## Purchasing Analysis (Total)"
   ]
  },
  {
   "cell_type": "markdown",
   "metadata": {},
   "source": [
    "* Run basic calculations to obtain number of unique items, average price, etc.\n",
    "\n",
    "\n",
    "* Create a summary data frame to hold the results\n",
    "\n",
    "\n",
    "* Optional: give the displayed data cleaner formatting\n",
    "\n",
    "\n",
    "* Display the summary data frame\n"
   ]
  },
  {
   "cell_type": "code",
   "execution_count": 3,
   "metadata": {
    "scrolled": true
   },
   "outputs": [
    {
     "data": {
      "text/html": [
       "<style  type=\"text/css\" >\n",
       "</style>  \n",
       "<table id=\"T_e6b5345c_cf56_11e8_be93_e82a44feff58\" > \n",
       "<thead>    <tr> \n",
       "        <th class=\"blank level0\" ></th> \n",
       "        <th class=\"col_heading level0 col0\" >Number of Unique Items</th> \n",
       "        <th class=\"col_heading level0 col1\" >Average Price</th> \n",
       "        <th class=\"col_heading level0 col2\" >Number of Purchases</th> \n",
       "        <th class=\"col_heading level0 col3\" >Total Revenue</th> \n",
       "    </tr></thead> \n",
       "<tbody>    <tr> \n",
       "        <th id=\"T_e6b5345c_cf56_11e8_be93_e82a44feff58level0_row0\" class=\"row_heading level0 row0\" >0</th> \n",
       "        <td id=\"T_e6b5345c_cf56_11e8_be93_e82a44feff58row0_col0\" class=\"data row0 col0\" >183</td> \n",
       "        <td id=\"T_e6b5345c_cf56_11e8_be93_e82a44feff58row0_col1\" class=\"data row0 col1\" >$3.05</td> \n",
       "        <td id=\"T_e6b5345c_cf56_11e8_be93_e82a44feff58row0_col2\" class=\"data row0 col2\" >780</td> \n",
       "        <td id=\"T_e6b5345c_cf56_11e8_be93_e82a44feff58row0_col3\" class=\"data row0 col3\" >$2,379.77</td> \n",
       "    </tr></tbody> \n",
       "</table> "
      ],
      "text/plain": [
       "<pandas.io.formats.style.Styler at 0x1d51ea07b38>"
      ]
     },
     "execution_count": 3,
     "metadata": {},
     "output_type": "execute_result"
    }
   ],
   "source": [
    "#calculate unique items, average price, purchase count, and total price\n",
    "number_of_unique_items = len((purchase_data[\"Item ID\"]).unique())\n",
    "average_price = (purchase_data[\"Price\"]).mean()\n",
    "number_of_purchases = (purchase_data[\"Purchase ID\"]).count()\n",
    "total_price = (purchase_data[\"Price\"]).sum()\n",
    "\n",
    "#create summary data frame \n",
    "summary_df = pd.DataFrame({\"Number of Unique Items\":[number_of_unique_items],\n",
    "                           \"Average Price\":[average_price], \n",
    "                           \"Number of Purchases\": [number_of_purchases], \n",
    "                           \"Total Revenue\": [total_price]})\n",
    "\n",
    "#display summary data frame\n",
    "summary_df.style.format({'Average Price':\"${:,.2f}\",\n",
    "                         'Total Revenue': '${:,.2f}'})"
   ]
  },
  {
   "cell_type": "markdown",
   "metadata": {},
   "source": [
    "## Gender Demographics"
   ]
  },
  {
   "cell_type": "markdown",
   "metadata": {},
   "source": [
    "* Percentage and Count of Male Players\n",
    "\n",
    "\n",
    "* Percentage and Count of Female Players\n",
    "\n",
    "\n",
    "* Percentage and Count of Other / Non-Disclosed\n",
    "\n",
    "\n"
   ]
  },
  {
   "cell_type": "code",
   "execution_count": 4,
   "metadata": {},
   "outputs": [
    {
     "data": {
      "text/html": [
       "<style  type=\"text/css\" >\n",
       "</style>  \n",
       "<table id=\"T_e6c8a350_cf56_11e8_b55f_e82a44feff58\" > \n",
       "<thead>    <tr> \n",
       "        <th class=\"blank level0\" ></th> \n",
       "        <th class=\"col_heading level0 col0\" >Total Count</th> \n",
       "        <th class=\"col_heading level0 col1\" >Percentage of Players</th> \n",
       "    </tr>    <tr> \n",
       "        <th class=\"index_name level0\" >Gender</th> \n",
       "        <th class=\"blank\" ></th> \n",
       "        <th class=\"blank\" ></th> \n",
       "    </tr></thead> \n",
       "<tbody>    <tr> \n",
       "        <th id=\"T_e6c8a350_cf56_11e8_b55f_e82a44feff58level0_row0\" class=\"row_heading level0 row0\" >Male</th> \n",
       "        <td id=\"T_e6c8a350_cf56_11e8_b55f_e82a44feff58row0_col0\" class=\"data row0 col0\" >484</td> \n",
       "        <td id=\"T_e6c8a350_cf56_11e8_b55f_e82a44feff58row0_col1\" class=\"data row0 col1\" >84.03</td> \n",
       "    </tr>    <tr> \n",
       "        <th id=\"T_e6c8a350_cf56_11e8_b55f_e82a44feff58level0_row1\" class=\"row_heading level0 row1\" >Female</th> \n",
       "        <td id=\"T_e6c8a350_cf56_11e8_b55f_e82a44feff58row1_col0\" class=\"data row1 col0\" >81</td> \n",
       "        <td id=\"T_e6c8a350_cf56_11e8_b55f_e82a44feff58row1_col1\" class=\"data row1 col1\" >14.06</td> \n",
       "    </tr>    <tr> \n",
       "        <th id=\"T_e6c8a350_cf56_11e8_b55f_e82a44feff58level0_row2\" class=\"row_heading level0 row2\" >Other / Non-Disclosed</th> \n",
       "        <td id=\"T_e6c8a350_cf56_11e8_b55f_e82a44feff58row2_col0\" class=\"data row2 col0\" >11</td> \n",
       "        <td id=\"T_e6c8a350_cf56_11e8_b55f_e82a44feff58row2_col1\" class=\"data row2 col1\" >1.91</td> \n",
       "    </tr></tbody> \n",
       "</table> "
      ],
      "text/plain": [
       "<pandas.io.formats.style.Styler at 0x1d51f8cf438>"
      ]
     },
     "execution_count": 4,
     "metadata": {},
     "output_type": "execute_result"
    }
   ],
   "source": [
    "#group player data by gender \n",
    "gender_stats = purchase_data.groupby(\"Gender\")\n",
    "\n",
    "#get total screen names by gender\n",
    "total_count_gender = gender_stats.nunique()[\"SN\"]\n",
    "\n",
    "#find percentage of players  \n",
    "percentage_of_players = total_count_gender / total_players * 100\n",
    "\n",
    "#make data frame for gender demographics \n",
    "gender_demographics = pd.DataFrame({\"Total Count\": total_count_gender, \n",
    "                                    \"Percentage of Players\": percentage_of_players})\n",
    "\n",
    "#format into decending order with two decimal places \n",
    "gender_demographics.sort_values([\"Total Count\"], ascending = False).style.format({\"Percentage of Players\":\"{:.2f}\"})"
   ]
  },
  {
   "cell_type": "markdown",
   "metadata": {},
   "source": [
    "\n",
    "## Purchasing Analysis (Gender)"
   ]
  },
  {
   "cell_type": "markdown",
   "metadata": {},
   "source": [
    "* Run basic calculations to obtain purchase count, avg. purchase price, avg. purchase total per person etc. by gender\n",
    "\n",
    "\n",
    "\n",
    "\n",
    "* Create a summary data frame to hold the results\n",
    "\n",
    "\n",
    "* Optional: give the displayed data cleaner formatting\n",
    "\n",
    "\n",
    "* Display the summary data frame"
   ]
  },
  {
   "cell_type": "code",
   "execution_count": 5,
   "metadata": {},
   "outputs": [
    {
     "data": {
      "text/html": [
       "<style  type=\"text/css\" >\n",
       "</style>  \n",
       "<table id=\"T_e6cb96e6_cf56_11e8_b748_e82a44feff58\" > \n",
       "<thead>    <tr> \n",
       "        <th class=\"blank level0\" ></th> \n",
       "        <th class=\"col_heading level0 col0\" >Purchase Count</th> \n",
       "        <th class=\"col_heading level0 col1\" >Average Purchase Price</th> \n",
       "        <th class=\"col_heading level0 col2\" >Total Purchase Value</th> \n",
       "        <th class=\"col_heading level0 col3\" >Avg Purchase Total per Person</th> \n",
       "    </tr>    <tr> \n",
       "        <th class=\"index_name level0\" >Gender</th> \n",
       "        <th class=\"blank\" ></th> \n",
       "        <th class=\"blank\" ></th> \n",
       "        <th class=\"blank\" ></th> \n",
       "        <th class=\"blank\" ></th> \n",
       "    </tr></thead> \n",
       "<tbody>    <tr> \n",
       "        <th id=\"T_e6cb96e6_cf56_11e8_b748_e82a44feff58level0_row0\" class=\"row_heading level0 row0\" >Female</th> \n",
       "        <td id=\"T_e6cb96e6_cf56_11e8_b748_e82a44feff58row0_col0\" class=\"data row0 col0\" >113</td> \n",
       "        <td id=\"T_e6cb96e6_cf56_11e8_b748_e82a44feff58row0_col1\" class=\"data row0 col1\" >$3.20</td> \n",
       "        <td id=\"T_e6cb96e6_cf56_11e8_b748_e82a44feff58row0_col2\" class=\"data row0 col2\" >$361.94</td> \n",
       "        <td id=\"T_e6cb96e6_cf56_11e8_b748_e82a44feff58row0_col3\" class=\"data row0 col3\" >$4.47</td> \n",
       "    </tr>    <tr> \n",
       "        <th id=\"T_e6cb96e6_cf56_11e8_b748_e82a44feff58level0_row1\" class=\"row_heading level0 row1\" >Male</th> \n",
       "        <td id=\"T_e6cb96e6_cf56_11e8_b748_e82a44feff58row1_col0\" class=\"data row1 col0\" >652</td> \n",
       "        <td id=\"T_e6cb96e6_cf56_11e8_b748_e82a44feff58row1_col1\" class=\"data row1 col1\" >$3.02</td> \n",
       "        <td id=\"T_e6cb96e6_cf56_11e8_b748_e82a44feff58row1_col2\" class=\"data row1 col2\" >$1,967.64</td> \n",
       "        <td id=\"T_e6cb96e6_cf56_11e8_b748_e82a44feff58row1_col3\" class=\"data row1 col3\" >$4.07</td> \n",
       "    </tr>    <tr> \n",
       "        <th id=\"T_e6cb96e6_cf56_11e8_b748_e82a44feff58level0_row2\" class=\"row_heading level0 row2\" >Other / Non-Disclosed</th> \n",
       "        <td id=\"T_e6cb96e6_cf56_11e8_b748_e82a44feff58row2_col0\" class=\"data row2 col0\" >15</td> \n",
       "        <td id=\"T_e6cb96e6_cf56_11e8_b748_e82a44feff58row2_col1\" class=\"data row2 col1\" >$3.35</td> \n",
       "        <td id=\"T_e6cb96e6_cf56_11e8_b748_e82a44feff58row2_col2\" class=\"data row2 col2\" >$50.19</td> \n",
       "        <td id=\"T_e6cb96e6_cf56_11e8_b748_e82a44feff58row2_col3\" class=\"data row2 col3\" >$4.56</td> \n",
       "    </tr></tbody> \n",
       "</table> "
      ],
      "text/plain": [
       "<pandas.io.formats.style.Styler at 0x1d51f9026d8>"
      ]
     },
     "execution_count": 5,
     "metadata": {},
     "output_type": "execute_result"
    }
   ],
   "source": [
    "#Run basic calculations to obtain purchase count, avg purchase price, avg purchase total per person by gender\n",
    "#purchase count\n",
    "purchase_count = gender_stats[\"Purchase ID\"].count()\n",
    "#average pruchase price\n",
    "avg_purchase_price = gender_stats[\"Price\"].mean()\n",
    "#total purchase value\n",
    "avg_purchase_total = gender_stats[\"Price\"].sum()\n",
    "#average purchase total per person\n",
    "avg_purchase_per_person = avg_purchase_total/total_count_gender\n",
    "\n",
    "#Create a summary data frame to hold the results\n",
    "gender_demographics = pd.DataFrame({\"Purchase Count\": purchase_count, \n",
    "                                    \"Average Purchase Price\": avg_purchase_price,\n",
    "                                    \"Total Purchase Value\":avg_purchase_total,\n",
    "                                    \"Avg Purchase Total per Person\": avg_purchase_per_person})\n",
    "#Display the summary data frame\n",
    "gender_demographics.style.format({\"Average Purchase Price\":\"${:,.2f}\",\n",
    "                                  \"Total Purchase Value\":\"${:,.2f}\",\n",
    "                                  \"Avg Purchase Total per Person\":\"${:,.2f}\"})"
   ]
  },
  {
   "cell_type": "markdown",
   "metadata": {},
   "source": [
    "## Age Demographics"
   ]
  },
  {
   "cell_type": "markdown",
   "metadata": {},
   "source": [
    "* Establish bins for ages\n",
    "\n",
    "\n",
    "* Categorize the existing players using the age bins. Hint: use pd.cut()\n",
    "\n",
    "\n",
    "* Calculate the numbers and percentages by age group\n",
    "\n",
    "\n",
    "* Create a summary data frame to hold the results\n",
    "\n",
    "\n",
    "* Optional: round the percentage column to two decimal points\n",
    "\n",
    "\n",
    "* Display Age Demographics Table\n"
   ]
  },
  {
   "cell_type": "code",
   "execution_count": 6,
   "metadata": {},
   "outputs": [
    {
     "data": {
      "text/html": [
       "<style  type=\"text/css\" >\n",
       "</style>  \n",
       "<table id=\"T_e6d0bc62_cf56_11e8_ab4f_e82a44feff58\" > \n",
       "<thead>    <tr> \n",
       "        <th class=\"blank level0\" ></th> \n",
       "        <th class=\"col_heading level0 col0\" >Total Count</th> \n",
       "        <th class=\"col_heading level0 col1\" >Percentage of Players</th> \n",
       "    </tr>    <tr> \n",
       "        <th class=\"index_name level0\" >Age Group</th> \n",
       "        <th class=\"blank\" ></th> \n",
       "        <th class=\"blank\" ></th> \n",
       "    </tr></thead> \n",
       "<tbody>    <tr> \n",
       "        <th id=\"T_e6d0bc62_cf56_11e8_ab4f_e82a44feff58level0_row0\" class=\"row_heading level0 row0\" ><10</th> \n",
       "        <td id=\"T_e6d0bc62_cf56_11e8_ab4f_e82a44feff58row0_col0\" class=\"data row0 col0\" >17</td> \n",
       "        <td id=\"T_e6d0bc62_cf56_11e8_ab4f_e82a44feff58row0_col1\" class=\"data row0 col1\" >2.95</td> \n",
       "    </tr>    <tr> \n",
       "        <th id=\"T_e6d0bc62_cf56_11e8_ab4f_e82a44feff58level0_row1\" class=\"row_heading level0 row1\" >10-14</th> \n",
       "        <td id=\"T_e6d0bc62_cf56_11e8_ab4f_e82a44feff58row1_col0\" class=\"data row1 col0\" >22</td> \n",
       "        <td id=\"T_e6d0bc62_cf56_11e8_ab4f_e82a44feff58row1_col1\" class=\"data row1 col1\" >3.82</td> \n",
       "    </tr>    <tr> \n",
       "        <th id=\"T_e6d0bc62_cf56_11e8_ab4f_e82a44feff58level0_row2\" class=\"row_heading level0 row2\" >15-19</th> \n",
       "        <td id=\"T_e6d0bc62_cf56_11e8_ab4f_e82a44feff58row2_col0\" class=\"data row2 col0\" >107</td> \n",
       "        <td id=\"T_e6d0bc62_cf56_11e8_ab4f_e82a44feff58row2_col1\" class=\"data row2 col1\" >18.58</td> \n",
       "    </tr>    <tr> \n",
       "        <th id=\"T_e6d0bc62_cf56_11e8_ab4f_e82a44feff58level0_row3\" class=\"row_heading level0 row3\" >20-24</th> \n",
       "        <td id=\"T_e6d0bc62_cf56_11e8_ab4f_e82a44feff58row3_col0\" class=\"data row3 col0\" >258</td> \n",
       "        <td id=\"T_e6d0bc62_cf56_11e8_ab4f_e82a44feff58row3_col1\" class=\"data row3 col1\" >44.79</td> \n",
       "    </tr>    <tr> \n",
       "        <th id=\"T_e6d0bc62_cf56_11e8_ab4f_e82a44feff58level0_row4\" class=\"row_heading level0 row4\" >25-29</th> \n",
       "        <td id=\"T_e6d0bc62_cf56_11e8_ab4f_e82a44feff58row4_col0\" class=\"data row4 col0\" >77</td> \n",
       "        <td id=\"T_e6d0bc62_cf56_11e8_ab4f_e82a44feff58row4_col1\" class=\"data row4 col1\" >13.37</td> \n",
       "    </tr>    <tr> \n",
       "        <th id=\"T_e6d0bc62_cf56_11e8_ab4f_e82a44feff58level0_row5\" class=\"row_heading level0 row5\" >30-34</th> \n",
       "        <td id=\"T_e6d0bc62_cf56_11e8_ab4f_e82a44feff58row5_col0\" class=\"data row5 col0\" >52</td> \n",
       "        <td id=\"T_e6d0bc62_cf56_11e8_ab4f_e82a44feff58row5_col1\" class=\"data row5 col1\" >9.03</td> \n",
       "    </tr>    <tr> \n",
       "        <th id=\"T_e6d0bc62_cf56_11e8_ab4f_e82a44feff58level0_row6\" class=\"row_heading level0 row6\" >35-39</th> \n",
       "        <td id=\"T_e6d0bc62_cf56_11e8_ab4f_e82a44feff58row6_col0\" class=\"data row6 col0\" >31</td> \n",
       "        <td id=\"T_e6d0bc62_cf56_11e8_ab4f_e82a44feff58row6_col1\" class=\"data row6 col1\" >5.38</td> \n",
       "    </tr>    <tr> \n",
       "        <th id=\"T_e6d0bc62_cf56_11e8_ab4f_e82a44feff58level0_row7\" class=\"row_heading level0 row7\" >40+</th> \n",
       "        <td id=\"T_e6d0bc62_cf56_11e8_ab4f_e82a44feff58row7_col0\" class=\"data row7 col0\" >12</td> \n",
       "        <td id=\"T_e6d0bc62_cf56_11e8_ab4f_e82a44feff58row7_col1\" class=\"data row7 col1\" >2.08</td> \n",
       "    </tr></tbody> \n",
       "</table> "
      ],
      "text/plain": [
       "<pandas.io.formats.style.Styler at 0x1d51ea079e8>"
      ]
     },
     "execution_count": 6,
     "metadata": {},
     "output_type": "execute_result"
    }
   ],
   "source": [
    "# Establish bins for ages\n",
    "age_bins = [0, 9.90, 14.90, 19.90, 24.90, 29.90, 34.90, 39.90, 99999]\n",
    "group_names = [\"<10\", \"10-14\", \"15-19\", \"20-24\", \"25-29\", \"30-34\", \"35-39\", \"40+\"]\n",
    "\n",
    "#Categorize the existing players using the age bins.\n",
    "purchase_data[\"Age Group\"] = pd.cut(purchase_data[\"Age\"],age_bins, labels=group_names)\n",
    "purchase_data\n",
    "\n",
    "#Calculate the numbers and percentages by age group\n",
    "age_group = purchase_data.groupby(\"Age Group\")\n",
    "total_count_age = age_group[\"SN\"].nunique()\n",
    "percentage_by_age = (total_count_age/total_players) * 100\n",
    "    \n",
    "#make summary data frame\n",
    "age_demographics = pd.DataFrame({\"Total Count\": total_count_age, \n",
    "                                 \"Percentage of Players\": percentage_by_age})\n",
    "\n",
    "#diplay table with format percentage with two decimal places \n",
    "age_demographics.style.format({\"Percentage of Players\":\"{:,.2f}\"})"
   ]
  },
  {
   "cell_type": "markdown",
   "metadata": {},
   "source": [
    "## Purchasing Analysis (Age)"
   ]
  },
  {
   "cell_type": "markdown",
   "metadata": {},
   "source": [
    "* Bin the purchase_data data frame by age\n",
    "\n",
    "\n",
    "* Run basic calculations to obtain purchase count, avg. purchase price, avg. purchase total per person etc. in the table below\n",
    "\n",
    "\n",
    "* Create a summary data frame to hold the results\n",
    "\n",
    "\n",
    "* Optional: give the displayed data cleaner formatting\n",
    "\n",
    "\n",
    "* Display the summary data frame"
   ]
  },
  {
   "cell_type": "code",
   "execution_count": 7,
   "metadata": {},
   "outputs": [
    {
     "data": {
      "text/html": [
       "<style  type=\"text/css\" >\n",
       "</style>  \n",
       "<table id=\"T_e6d471c6_cf56_11e8_8b55_e82a44feff58\" > \n",
       "<thead>    <tr> \n",
       "        <th class=\"blank level0\" ></th> \n",
       "        <th class=\"col_heading level0 col0\" >Purchase Count</th> \n",
       "        <th class=\"col_heading level0 col1\" >Average Purchase Price</th> \n",
       "        <th class=\"col_heading level0 col2\" >Total Purchase Value</th> \n",
       "        <th class=\"col_heading level0 col3\" >Average Purchase Total per Person</th> \n",
       "    </tr>    <tr> \n",
       "        <th class=\"index_name level0\" >Age Group</th> \n",
       "        <th class=\"blank\" ></th> \n",
       "        <th class=\"blank\" ></th> \n",
       "        <th class=\"blank\" ></th> \n",
       "        <th class=\"blank\" ></th> \n",
       "    </tr></thead> \n",
       "<tbody>    <tr> \n",
       "        <th id=\"T_e6d471c6_cf56_11e8_8b55_e82a44feff58level0_row0\" class=\"row_heading level0 row0\" ><10</th> \n",
       "        <td id=\"T_e6d471c6_cf56_11e8_8b55_e82a44feff58row0_col0\" class=\"data row0 col0\" >23</td> \n",
       "        <td id=\"T_e6d471c6_cf56_11e8_8b55_e82a44feff58row0_col1\" class=\"data row0 col1\" >$3.35</td> \n",
       "        <td id=\"T_e6d471c6_cf56_11e8_8b55_e82a44feff58row0_col2\" class=\"data row0 col2\" >$77.13</td> \n",
       "        <td id=\"T_e6d471c6_cf56_11e8_8b55_e82a44feff58row0_col3\" class=\"data row0 col3\" >$4.54</td> \n",
       "    </tr>    <tr> \n",
       "        <th id=\"T_e6d471c6_cf56_11e8_8b55_e82a44feff58level0_row1\" class=\"row_heading level0 row1\" >10-14</th> \n",
       "        <td id=\"T_e6d471c6_cf56_11e8_8b55_e82a44feff58row1_col0\" class=\"data row1 col0\" >28</td> \n",
       "        <td id=\"T_e6d471c6_cf56_11e8_8b55_e82a44feff58row1_col1\" class=\"data row1 col1\" >$2.96</td> \n",
       "        <td id=\"T_e6d471c6_cf56_11e8_8b55_e82a44feff58row1_col2\" class=\"data row1 col2\" >$82.78</td> \n",
       "        <td id=\"T_e6d471c6_cf56_11e8_8b55_e82a44feff58row1_col3\" class=\"data row1 col3\" >$3.76</td> \n",
       "    </tr>    <tr> \n",
       "        <th id=\"T_e6d471c6_cf56_11e8_8b55_e82a44feff58level0_row2\" class=\"row_heading level0 row2\" >15-19</th> \n",
       "        <td id=\"T_e6d471c6_cf56_11e8_8b55_e82a44feff58row2_col0\" class=\"data row2 col0\" >136</td> \n",
       "        <td id=\"T_e6d471c6_cf56_11e8_8b55_e82a44feff58row2_col1\" class=\"data row2 col1\" >$3.04</td> \n",
       "        <td id=\"T_e6d471c6_cf56_11e8_8b55_e82a44feff58row2_col2\" class=\"data row2 col2\" >$412.89</td> \n",
       "        <td id=\"T_e6d471c6_cf56_11e8_8b55_e82a44feff58row2_col3\" class=\"data row2 col3\" >$3.86</td> \n",
       "    </tr>    <tr> \n",
       "        <th id=\"T_e6d471c6_cf56_11e8_8b55_e82a44feff58level0_row3\" class=\"row_heading level0 row3\" >20-24</th> \n",
       "        <td id=\"T_e6d471c6_cf56_11e8_8b55_e82a44feff58row3_col0\" class=\"data row3 col0\" >365</td> \n",
       "        <td id=\"T_e6d471c6_cf56_11e8_8b55_e82a44feff58row3_col1\" class=\"data row3 col1\" >$3.05</td> \n",
       "        <td id=\"T_e6d471c6_cf56_11e8_8b55_e82a44feff58row3_col2\" class=\"data row3 col2\" >$1,114.06</td> \n",
       "        <td id=\"T_e6d471c6_cf56_11e8_8b55_e82a44feff58row3_col3\" class=\"data row3 col3\" >$4.32</td> \n",
       "    </tr>    <tr> \n",
       "        <th id=\"T_e6d471c6_cf56_11e8_8b55_e82a44feff58level0_row4\" class=\"row_heading level0 row4\" >25-29</th> \n",
       "        <td id=\"T_e6d471c6_cf56_11e8_8b55_e82a44feff58row4_col0\" class=\"data row4 col0\" >101</td> \n",
       "        <td id=\"T_e6d471c6_cf56_11e8_8b55_e82a44feff58row4_col1\" class=\"data row4 col1\" >$2.90</td> \n",
       "        <td id=\"T_e6d471c6_cf56_11e8_8b55_e82a44feff58row4_col2\" class=\"data row4 col2\" >$293.00</td> \n",
       "        <td id=\"T_e6d471c6_cf56_11e8_8b55_e82a44feff58row4_col3\" class=\"data row4 col3\" >$3.81</td> \n",
       "    </tr>    <tr> \n",
       "        <th id=\"T_e6d471c6_cf56_11e8_8b55_e82a44feff58level0_row5\" class=\"row_heading level0 row5\" >30-34</th> \n",
       "        <td id=\"T_e6d471c6_cf56_11e8_8b55_e82a44feff58row5_col0\" class=\"data row5 col0\" >73</td> \n",
       "        <td id=\"T_e6d471c6_cf56_11e8_8b55_e82a44feff58row5_col1\" class=\"data row5 col1\" >$2.93</td> \n",
       "        <td id=\"T_e6d471c6_cf56_11e8_8b55_e82a44feff58row5_col2\" class=\"data row5 col2\" >$214.00</td> \n",
       "        <td id=\"T_e6d471c6_cf56_11e8_8b55_e82a44feff58row5_col3\" class=\"data row5 col3\" >$4.12</td> \n",
       "    </tr>    <tr> \n",
       "        <th id=\"T_e6d471c6_cf56_11e8_8b55_e82a44feff58level0_row6\" class=\"row_heading level0 row6\" >35-39</th> \n",
       "        <td id=\"T_e6d471c6_cf56_11e8_8b55_e82a44feff58row6_col0\" class=\"data row6 col0\" >41</td> \n",
       "        <td id=\"T_e6d471c6_cf56_11e8_8b55_e82a44feff58row6_col1\" class=\"data row6 col1\" >$3.60</td> \n",
       "        <td id=\"T_e6d471c6_cf56_11e8_8b55_e82a44feff58row6_col2\" class=\"data row6 col2\" >$147.67</td> \n",
       "        <td id=\"T_e6d471c6_cf56_11e8_8b55_e82a44feff58row6_col3\" class=\"data row6 col3\" >$4.76</td> \n",
       "    </tr>    <tr> \n",
       "        <th id=\"T_e6d471c6_cf56_11e8_8b55_e82a44feff58level0_row7\" class=\"row_heading level0 row7\" >40+</th> \n",
       "        <td id=\"T_e6d471c6_cf56_11e8_8b55_e82a44feff58row7_col0\" class=\"data row7 col0\" >13</td> \n",
       "        <td id=\"T_e6d471c6_cf56_11e8_8b55_e82a44feff58row7_col1\" class=\"data row7 col1\" >$2.94</td> \n",
       "        <td id=\"T_e6d471c6_cf56_11e8_8b55_e82a44feff58row7_col2\" class=\"data row7 col2\" >$38.24</td> \n",
       "        <td id=\"T_e6d471c6_cf56_11e8_8b55_e82a44feff58row7_col3\" class=\"data row7 col3\" >$3.19</td> \n",
       "    </tr></tbody> \n",
       "</table> "
      ],
      "text/plain": [
       "<pandas.io.formats.style.Styler at 0x1d51f973828>"
      ]
     },
     "execution_count": 7,
     "metadata": {},
     "output_type": "execute_result"
    }
   ],
   "source": [
    "#Run basic calculations to obtain purchase count, avg. purchase price, avg. purchase total per person etc.\n",
    "#purchase count\n",
    "purchase_count_age = age_group[\"Purchase ID\"].count()\n",
    "#average purchase price\n",
    "avg_purchase_price_age = age_group[\"Price\"].mean()\n",
    "#total purchase value\n",
    "total_purchase_value = age_group[\"Price\"].sum()\n",
    "#average total purchase per person\n",
    "avg_purchase_per_person_age = total_purchase_value/total_count_age\n",
    "\n",
    "#make summary data frame\n",
    "age_demographics = pd.DataFrame({\"Purchase Count\": purchase_count_age,\n",
    "                                 \"Average Purchase Price\": avg_purchase_price_age,\n",
    "                                 \"Total Purchase Value\":total_purchase_value,\n",
    "                                 \"Average Purchase Total per Person\": avg_purchase_per_person_age})\n",
    "#format table with currency \n",
    "age_demographics.style.format({\"Average Purchase Price\":\"${:,.2f}\",\n",
    "                               \"Total Purchase Value\":\"${:,.2f}\",\n",
    "                               \"Average Purchase Total per Person\":\"${:,.2f}\"})"
   ]
  },
  {
   "cell_type": "markdown",
   "metadata": {},
   "source": [
    "## Top Spenders"
   ]
  },
  {
   "cell_type": "markdown",
   "metadata": {},
   "source": [
    "* Run basic calculations to obtain the results in the table below\n",
    "\n",
    "\n",
    "* Create a summary data frame to hold the results\n",
    "\n",
    "\n",
    "* Sort the total purchase value column in descending order\n",
    "\n",
    "\n",
    "* Optional: give the displayed data cleaner formatting\n",
    "\n",
    "\n",
    "* Display a preview of the summary data frame\n",
    "\n"
   ]
  },
  {
   "cell_type": "code",
   "execution_count": 8,
   "metadata": {},
   "outputs": [
    {
     "data": {
      "text/html": [
       "<div>\n",
       "<style scoped>\n",
       "    .dataframe tbody tr th:only-of-type {\n",
       "        vertical-align: middle;\n",
       "    }\n",
       "\n",
       "    .dataframe tbody tr th {\n",
       "        vertical-align: top;\n",
       "    }\n",
       "\n",
       "    .dataframe thead th {\n",
       "        text-align: right;\n",
       "    }\n",
       "</style>\n",
       "<table border=\"1\" class=\"dataframe\">\n",
       "  <thead>\n",
       "    <tr style=\"text-align: right;\">\n",
       "      <th></th>\n",
       "      <th>Purchase Count</th>\n",
       "      <th>Average Purchase Price</th>\n",
       "      <th>Total Purchase Value</th>\n",
       "    </tr>\n",
       "    <tr>\n",
       "      <th>SN</th>\n",
       "      <th></th>\n",
       "      <th></th>\n",
       "      <th></th>\n",
       "    </tr>\n",
       "  </thead>\n",
       "  <tbody>\n",
       "    <tr>\n",
       "      <th>Lisosia93</th>\n",
       "      <td>5</td>\n",
       "      <td>3.792000</td>\n",
       "      <td>18.96</td>\n",
       "    </tr>\n",
       "    <tr>\n",
       "      <th>Idastidru52</th>\n",
       "      <td>4</td>\n",
       "      <td>3.862500</td>\n",
       "      <td>15.45</td>\n",
       "    </tr>\n",
       "    <tr>\n",
       "      <th>Chamjask73</th>\n",
       "      <td>3</td>\n",
       "      <td>4.610000</td>\n",
       "      <td>13.83</td>\n",
       "    </tr>\n",
       "    <tr>\n",
       "      <th>Iral74</th>\n",
       "      <td>4</td>\n",
       "      <td>3.405000</td>\n",
       "      <td>13.62</td>\n",
       "    </tr>\n",
       "    <tr>\n",
       "      <th>Iskadarya95</th>\n",
       "      <td>3</td>\n",
       "      <td>4.366667</td>\n",
       "      <td>13.10</td>\n",
       "    </tr>\n",
       "  </tbody>\n",
       "</table>\n",
       "</div>"
      ],
      "text/plain": [
       "             Purchase Count  Average Purchase Price  Total Purchase Value\n",
       "SN                                                                       \n",
       "Lisosia93                 5                3.792000                 18.96\n",
       "Idastidru52               4                3.862500                 15.45\n",
       "Chamjask73                3                4.610000                 13.83\n",
       "Iral74                    4                3.405000                 13.62\n",
       "Iskadarya95               3                4.366667                 13.10"
      ]
     },
     "execution_count": 8,
     "metadata": {},
     "output_type": "execute_result"
    }
   ],
   "source": [
    "# group the data by screen names\n",
    "spenders_stats = purchase_data.groupby(\"SN\")\n",
    "\n",
    "# get purchase count by counting purchase by name\n",
    "purchase_count_spend = spenders_stats[\"Purchase ID\"].count()\n",
    "\n",
    "# find average purchase price\n",
    "ave_purchase_price_spend = spenders_stats[\"Price\"].mean()\n",
    "                                          \n",
    "# calculate the total purchase values\n",
    "total_purchase_spend = spenders_stats[\"Price\"].sum()\n",
    "\n",
    "# make a summary data frame\n",
    "top_spenders = pd.DataFrame({\"Purchase Count\": purchase_count_spend,\n",
    "                            \"Average Purchase Price\": ave_purchase_price_spend,\n",
    "                            \"Total Purchase Value\": total_purchase_spend})\n",
    "# Sort the total purchase value column in descending order\n",
    "descend_spenders = top_spenders.sort_values([\"Total Purchase Value\"], ascending = False)\n",
    "\n",
    "# format table for currency\n",
    "descend_spenders.style.format({\"Average Purchase Total\":\"${:,.2f}\",\n",
    "                              \"Average Purchase Price\":\"${:,.2f}\", \n",
    "                              \"Total Purchase Value\":\"${:,.2f}\"})\n",
    "descend_spenders.head()"
   ]
  },
  {
   "cell_type": "markdown",
   "metadata": {},
   "source": [
    "## Most Popular Items"
   ]
  },
  {
   "cell_type": "markdown",
   "metadata": {},
   "source": [
    "* Retrieve the Item ID, Item Name, and Item Price columns\n",
    "\n",
    "\n",
    "* Group by Item ID and Item Name. Perform calculations to obtain purchase count, item price, and total purchase value\n",
    "\n",
    "\n",
    "* Create a summary data frame to hold the results\n",
    "\n",
    "\n",
    "* Sort the purchase count column in descending order\n",
    "\n",
    "\n",
    "* Optional: give the displayed data cleaner formatting\n",
    "\n",
    "\n",
    "* Display a preview of the summary data frame\n",
    "\n"
   ]
  },
  {
   "cell_type": "code",
   "execution_count": 9,
   "metadata": {},
   "outputs": [
    {
     "data": {
      "text/html": [
       "<div>\n",
       "<style scoped>\n",
       "    .dataframe tbody tr th:only-of-type {\n",
       "        vertical-align: middle;\n",
       "    }\n",
       "\n",
       "    .dataframe tbody tr th {\n",
       "        vertical-align: top;\n",
       "    }\n",
       "\n",
       "    .dataframe thead th {\n",
       "        text-align: right;\n",
       "    }\n",
       "</style>\n",
       "<table border=\"1\" class=\"dataframe\">\n",
       "  <thead>\n",
       "    <tr style=\"text-align: right;\">\n",
       "      <th></th>\n",
       "      <th></th>\n",
       "      <th>Purchase Count</th>\n",
       "      <th>Item Price</th>\n",
       "      <th>Total Purchase Value</th>\n",
       "    </tr>\n",
       "    <tr>\n",
       "      <th>Item ID</th>\n",
       "      <th>Item Name</th>\n",
       "      <th></th>\n",
       "      <th></th>\n",
       "      <th></th>\n",
       "    </tr>\n",
       "  </thead>\n",
       "  <tbody>\n",
       "    <tr>\n",
       "      <th>178</th>\n",
       "      <th>Oathbreaker, Last Hope of the Breaking Storm</th>\n",
       "      <td>12</td>\n",
       "      <td>4.23</td>\n",
       "      <td>50.76</td>\n",
       "    </tr>\n",
       "    <tr>\n",
       "      <th>145</th>\n",
       "      <th>Fiery Glass Crusader</th>\n",
       "      <td>9</td>\n",
       "      <td>4.58</td>\n",
       "      <td>41.22</td>\n",
       "    </tr>\n",
       "    <tr>\n",
       "      <th>108</th>\n",
       "      <th>Extraction, Quickblade Of Trembling Hands</th>\n",
       "      <td>9</td>\n",
       "      <td>3.53</td>\n",
       "      <td>31.77</td>\n",
       "    </tr>\n",
       "    <tr>\n",
       "      <th>82</th>\n",
       "      <th>Nirvana</th>\n",
       "      <td>9</td>\n",
       "      <td>4.90</td>\n",
       "      <td>44.10</td>\n",
       "    </tr>\n",
       "    <tr>\n",
       "      <th>19</th>\n",
       "      <th>Pursuit, Cudgel of Necromancy</th>\n",
       "      <td>8</td>\n",
       "      <td>1.02</td>\n",
       "      <td>8.16</td>\n",
       "    </tr>\n",
       "  </tbody>\n",
       "</table>\n",
       "</div>"
      ],
      "text/plain": [
       "                                                      Purchase Count  \\\n",
       "Item ID Item Name                                                      \n",
       "178     Oathbreaker, Last Hope of the Breaking Storm              12   \n",
       "145     Fiery Glass Crusader                                       9   \n",
       "108     Extraction, Quickblade Of Trembling Hands                  9   \n",
       "82      Nirvana                                                    9   \n",
       "19      Pursuit, Cudgel of Necromancy                              8   \n",
       "\n",
       "                                                      Item Price  \\\n",
       "Item ID Item Name                                                  \n",
       "178     Oathbreaker, Last Hope of the Breaking Storm        4.23   \n",
       "145     Fiery Glass Crusader                                4.58   \n",
       "108     Extraction, Quickblade Of Trembling Hands           3.53   \n",
       "82      Nirvana                                             4.90   \n",
       "19      Pursuit, Cudgel of Necromancy                       1.02   \n",
       "\n",
       "                                                      Total Purchase Value  \n",
       "Item ID Item Name                                                           \n",
       "178     Oathbreaker, Last Hope of the Breaking Storm                 50.76  \n",
       "145     Fiery Glass Crusader                                         41.22  \n",
       "108     Extraction, Quickblade Of Trembling Hands                    31.77  \n",
       "82      Nirvana                                                      44.10  \n",
       "19      Pursuit, Cudgel of Necromancy                                 8.16  "
      ]
     },
     "execution_count": 9,
     "metadata": {},
     "output_type": "execute_result"
    }
   ],
   "source": [
    "# select the Item ID, Item Name, and Item Price columns\n",
    "items = purchase_data[[\"Item ID\", \"Item Name\", \"Price\"]]\n",
    "\n",
    "# Group by Item ID and Item Name. Perform calculations to obtain purchase count, item price, and total purchase value\n",
    "# 1 group by Item ID and Item name\n",
    "item_group = items.groupby([\"Item ID\", \"Item Name\"])\n",
    "\n",
    "# 2 calculate purchase count, item price, and total purchase value\n",
    "# purchase count\n",
    "count_item = item_group[\"Price\"].count()\n",
    "# total purchase value\n",
    "item_purchase_val = item_group[\"Price\"].sum()\n",
    "# item price\n",
    "item_price = item_purchase_val/count_item\n",
    "\n",
    "# make summary data frame\n",
    "most_pop_items = pd.DataFrame({\"Purchase Count\": count_item,\n",
    "                              \"Item Price\": item_price,\n",
    "                              \"Total Purchase Value\": item_purchase_val})\n",
    "\n",
    "# Sort the purchase count column in descending order\n",
    "descend_pop_items = most_pop_items.sort_values([\"Purchase Count\"], ascending = False)\n",
    "\n",
    "# foramt table for currency\n",
    "descend_pop_items.style.format({\"Item Price\":\"${:,.2f}\",\n",
    "                              \"Total Purchase Value\":\"${:,.2f}\"})\n",
    "descend_pop_items.head()"
   ]
  },
  {
   "cell_type": "markdown",
   "metadata": {},
   "source": [
    "## Most Profitable Items"
   ]
  },
  {
   "cell_type": "markdown",
   "metadata": {},
   "source": [
    "* Sort the above table by total purchase value in descending order\n",
    "\n",
    "\n",
    "* Optional: give the displayed data cleaner formatting\n",
    "\n",
    "\n",
    "* Display a preview of the data frame\n",
    "\n"
   ]
  },
  {
   "cell_type": "code",
   "execution_count": 10,
   "metadata": {
    "scrolled": true
   },
   "outputs": [
    {
     "data": {
      "text/html": [
       "<div>\n",
       "<style scoped>\n",
       "    .dataframe tbody tr th:only-of-type {\n",
       "        vertical-align: middle;\n",
       "    }\n",
       "\n",
       "    .dataframe tbody tr th {\n",
       "        vertical-align: top;\n",
       "    }\n",
       "\n",
       "    .dataframe thead th {\n",
       "        text-align: right;\n",
       "    }\n",
       "</style>\n",
       "<table border=\"1\" class=\"dataframe\">\n",
       "  <thead>\n",
       "    <tr style=\"text-align: right;\">\n",
       "      <th></th>\n",
       "      <th></th>\n",
       "      <th>Purchase Count</th>\n",
       "      <th>Item Price</th>\n",
       "      <th>Total Purchase Value</th>\n",
       "    </tr>\n",
       "    <tr>\n",
       "      <th>Item ID</th>\n",
       "      <th>Item Name</th>\n",
       "      <th></th>\n",
       "      <th></th>\n",
       "      <th></th>\n",
       "    </tr>\n",
       "  </thead>\n",
       "  <tbody>\n",
       "    <tr>\n",
       "      <th>178</th>\n",
       "      <th>Oathbreaker, Last Hope of the Breaking Storm</th>\n",
       "      <td>12</td>\n",
       "      <td>4.23</td>\n",
       "      <td>50.76</td>\n",
       "    </tr>\n",
       "    <tr>\n",
       "      <th>82</th>\n",
       "      <th>Nirvana</th>\n",
       "      <td>9</td>\n",
       "      <td>4.90</td>\n",
       "      <td>44.10</td>\n",
       "    </tr>\n",
       "    <tr>\n",
       "      <th>145</th>\n",
       "      <th>Fiery Glass Crusader</th>\n",
       "      <td>9</td>\n",
       "      <td>4.58</td>\n",
       "      <td>41.22</td>\n",
       "    </tr>\n",
       "    <tr>\n",
       "      <th>92</th>\n",
       "      <th>Final Critic</th>\n",
       "      <td>8</td>\n",
       "      <td>4.88</td>\n",
       "      <td>39.04</td>\n",
       "    </tr>\n",
       "    <tr>\n",
       "      <th>103</th>\n",
       "      <th>Singed Scalpel</th>\n",
       "      <td>8</td>\n",
       "      <td>4.35</td>\n",
       "      <td>34.80</td>\n",
       "    </tr>\n",
       "  </tbody>\n",
       "</table>\n",
       "</div>"
      ],
      "text/plain": [
       "                                                      Purchase Count  \\\n",
       "Item ID Item Name                                                      \n",
       "178     Oathbreaker, Last Hope of the Breaking Storm              12   \n",
       "82      Nirvana                                                    9   \n",
       "145     Fiery Glass Crusader                                       9   \n",
       "92      Final Critic                                               8   \n",
       "103     Singed Scalpel                                             8   \n",
       "\n",
       "                                                      Item Price  \\\n",
       "Item ID Item Name                                                  \n",
       "178     Oathbreaker, Last Hope of the Breaking Storm        4.23   \n",
       "82      Nirvana                                             4.90   \n",
       "145     Fiery Glass Crusader                                4.58   \n",
       "92      Final Critic                                        4.88   \n",
       "103     Singed Scalpel                                      4.35   \n",
       "\n",
       "                                                      Total Purchase Value  \n",
       "Item ID Item Name                                                           \n",
       "178     Oathbreaker, Last Hope of the Breaking Storm                 50.76  \n",
       "82      Nirvana                                                      44.10  \n",
       "145     Fiery Glass Crusader                                         41.22  \n",
       "92      Final Critic                                                 39.04  \n",
       "103     Singed Scalpel                                               34.80  "
      ]
     },
     "execution_count": 10,
     "metadata": {},
     "output_type": "execute_result"
    }
   ],
   "source": [
    "# Sort the above table by total purchase value in descending order\n",
    "descend_pop_items = most_pop_items.sort_values([\"Total Purchase Value\"], ascending = False)\n",
    "\n",
    "# format table for currency\n",
    "descend_pop_items.style.format({\"Item Price\":\"${:,.2f}\",\n",
    "                              \"Total Purchas Value\":\"${:,.2f}\"})\n",
    "descend_pop_items.head()"
   ]
  },
  {
   "cell_type": "code",
   "execution_count": null,
   "metadata": {},
   "outputs": [],
   "source": []
  }
 ],
 "metadata": {
  "anaconda-cloud": {},
  "kernel_info": {
   "name": "python3"
  },
  "kernelspec": {
   "display_name": "Python 3",
   "language": "python",
   "name": "python3"
  },
  "language_info": {
   "codemirror_mode": {
    "name": "ipython",
    "version": 3
   },
   "file_extension": ".py",
   "mimetype": "text/x-python",
   "name": "python",
   "nbconvert_exporter": "python",
   "pygments_lexer": "ipython3",
   "version": "3.6.5"
  },
  "nteract": {
   "version": "0.2.0"
  }
 },
 "nbformat": 4,
 "nbformat_minor": 2
}
